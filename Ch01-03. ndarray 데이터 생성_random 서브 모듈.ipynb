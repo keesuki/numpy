{
 "cells": [
  {
   "cell_type": "code",
   "execution_count": 1,
   "metadata": {},
   "outputs": [],
   "source": [
    "import numpy as np"
   ]
  },
  {
   "cell_type": "markdown",
   "metadata": {},
   "source": [
    "**random 서브모듈**\n",
    "\n",
    "**rand 함수**\n",
    "- 0,1 사이의 분포로 랜덤한 ndarray 생성"
   ]
  },
  {
   "cell_type": "code",
   "execution_count": 13,
   "metadata": {},
   "outputs": [
    {
     "name": "stdout",
     "output_type": "stream",
     "text": [
      "[0.47237057 0.78453029 0.65115471 0.13273367 0.02139893 0.98167307\n",
      " 0.09674795 0.33945339 0.43797343 0.56130119]\n",
      "****************************************************************************************************\n",
      "[[[0.78665948 0.00750596 0.13186224]\n",
      "  [0.90122987 0.41682264 0.16457208]\n",
      "  [0.12387948 0.25892406 0.1030322 ]\n",
      "  [0.90192859 0.8408785  0.97105854]\n",
      "  [0.13846925 0.59606472 0.54115249]]\n",
      "\n",
      " [[0.46797604 0.83430031 0.89545207]\n",
      "  [0.54904015 0.10825726 0.21728489]\n",
      "  [0.11960098 0.04778335 0.40029121]\n",
      "  [0.96217421 0.02043556 0.7361848 ]\n",
      "  [0.03765176 0.37183475 0.38853168]]\n",
      "\n",
      " [[0.77090886 0.65533339 0.36140814]\n",
      "  [0.64827378 0.78568774 0.78314279]\n",
      "  [0.37582694 0.31595412 0.16634363]\n",
      "  [0.01357209 0.08875589 0.95655496]\n",
      "  [0.50716716 0.92308659 0.97514509]]\n",
      "\n",
      " [[0.90356028 0.79100442 0.04607681]\n",
      "  [0.59483002 0.72914645 0.65897714]\n",
      "  [0.75717457 0.30789741 0.55846378]\n",
      "  [0.75309708 0.87421934 0.89152661]\n",
      "  [0.1989951  0.62038264 0.58178125]]]\n"
     ]
    }
   ],
   "source": [
    "print(np.random.rand(10))\n",
    "print('*'*100)\n",
    "print(np.random.rand(4,5,3))"
   ]
  },
  {
   "cell_type": "markdown",
   "metadata": {},
   "source": [
    "**randn함수**\n",
    "\n",
    "- n: 정규분포\n",
    "- 정규분포로 샘플링된 랜덤 ndarray 생성"
   ]
  },
  {
   "cell_type": "code",
   "execution_count": 12,
   "metadata": {},
   "outputs": [
    {
     "name": "stdout",
     "output_type": "stream",
     "text": [
      "[[ 1.438401   -0.16459113  1.56989923 -0.26851563]\n",
      " [ 0.10345712  0.21396901  0.94426366  1.83949414]\n",
      " [-0.72928994  0.20722148 -1.02480493  0.63563765]]\n",
      "[[[-0.25639511  1.12415134 -0.90103594  0.71319626  0.16611665]\n",
      "  [-0.07211777  1.77320427 -0.0377425  -0.93117296 -0.53023285]\n",
      "  [-1.04800528 -1.11222746 -0.19073624 -1.14903676  0.19835789]\n",
      "  [ 1.41441894 -0.35859439 -1.00810722  0.36754635  0.3901313 ]]\n",
      "\n",
      " [[ 0.29242894  0.23517301  1.67795025  0.41777409 -0.27986214]\n",
      "  [ 0.60162652 -1.70684254 -1.21530008 -0.38930785  0.70458965]\n",
      "  [ 0.61910418 -1.21124724  1.27814636  0.20812756  1.41059884]\n",
      "  [-0.91351996  0.21327881 -0.34313495  0.42016957 -0.19320809]]\n",
      "\n",
      " [[ 0.41932894 -1.82476719  0.10309098 -0.72425456  0.10561451]\n",
      "  [-1.11055028 -1.75845384 -0.8402032  -0.51921321  0.42014792]\n",
      "  [ 0.82226973  0.19225028  0.10987073  0.96898338  0.39226191]\n",
      "  [ 0.20011578 -0.30888471 -0.83191862  0.40324693 -0.52946053]]]\n"
     ]
    }
   ],
   "source": [
    "print(np.random.randn(3,4))\n",
    "print('*'*100)\n",
    "print(np.random.randn(3,4,5))"
   ]
  },
  {
   "cell_type": "markdown",
   "metadata": {},
   "source": [
    "**randint 함수**\n",
    "\n",
    "- 특정 정수 사이에서 랜덤하게 생플링"
   ]
  },
  {
   "cell_type": "code",
   "execution_count": 19,
   "metadata": {},
   "outputs": [
    {
     "data": {
      "text/plain": [
       "array([[97, 54, 59, 29, 37],\n",
       "       [50, 13, 40, 20, 72],\n",
       "       [ 9,  8, 80, 83, 39]])"
      ]
     },
     "execution_count": 19,
     "metadata": {},
     "output_type": "execute_result"
    }
   ],
   "source": [
    "np.random.randint(1,100, size=(3,5))"
   ]
  },
  {
   "cell_type": "markdown",
   "metadata": {},
   "source": [
    "**seed함수**\n",
    "\n",
    "- 랜덤한 값을 동일하게 다시 생성하고자 할때 사용"
   ]
  },
  {
   "cell_type": "code",
   "execution_count": 44,
   "metadata": {},
   "outputs": [],
   "source": [
    "np.random.seed(100) # 실행후 호출하면 동일한 결과를 가져와줌, 뒤에 숫자는 부여하는 번호 역할"
   ]
  },
  {
   "cell_type": "code",
   "execution_count": 45,
   "metadata": {},
   "outputs": [
    {
     "data": {
      "text/plain": [
       "array([[-1.74976547,  0.3426804 ,  1.1530358 , -0.25243604],\n",
       "       [ 0.98132079,  0.51421884,  0.22117967, -1.07004333],\n",
       "       [-0.18949583,  0.25500144, -0.45802699,  0.43516349]])"
      ]
     },
     "execution_count": 45,
     "metadata": {},
     "output_type": "execute_result"
    }
   ],
   "source": [
    "np.random.randn(3,4)"
   ]
  },
  {
   "cell_type": "markdown",
   "metadata": {},
   "source": [
    "**choice**\n",
    "\n",
    "- 주어진 1차원 ndarray로 부터 랜덤으로 샘플링\n",
    "- 정수가 주어진 경우, np.arange(해당숫자)로 간주"
   ]
  },
  {
   "cell_type": "code",
   "execution_count": 46,
   "metadata": {},
   "outputs": [
    {
     "data": {
      "text/plain": [
       "array([[83,  4, 91, 59],\n",
       "       [67,  7, 49, 47],\n",
       "       [65, 61, 14, 55]])"
      ]
     },
     "execution_count": 46,
     "metadata": {},
     "output_type": "execute_result"
    }
   ],
   "source": [
    "np.random.choice(100, size=(3,4))"
   ]
  },
  {
   "cell_type": "code",
   "execution_count": 50,
   "metadata": {},
   "outputs": [
    {
     "data": {
      "text/plain": [
       "array([[1.5, 2.6],\n",
       "       [4.9, 3. ]])"
      ]
     },
     "execution_count": 50,
     "metadata": {},
     "output_type": "execute_result"
    }
   ],
   "source": [
    "x = np.array([1,2,3,1.5,2.6, 4.9])\n",
    "np.random.choice(x, size=(2,2), replace=False)"
   ]
  },
  {
   "cell_type": "markdown",
   "metadata": {},
   "source": [
    "**확률분포에 따른 ndarray 생성**\n",
    "- uniform\n",
    "- noraml 등등"
   ]
  },
  {
   "cell_type": "code",
   "execution_count": 52,
   "metadata": {},
   "outputs": [
    {
     "data": {
      "text/plain": [
       "array([[1.70959122, 1.68038043, 1.35616198, 1.47538842, 1.08972456],\n",
       "       [2.01086286, 1.75250491, 2.1856108 , 2.25988375, 1.28520063],\n",
       "       [2.8676826 , 2.89275976, 2.20459332, 1.77553256, 1.72637601],\n",
       "       [1.40869055, 1.55353012, 1.49307176, 1.347216  , 2.93321939]])"
      ]
     },
     "execution_count": 52,
     "metadata": {},
     "output_type": "execute_result"
    }
   ],
   "source": [
    "np.random.uniform(1.0, 3.0, size=(4,5))"
   ]
  },
  {
   "cell_type": "code",
   "execution_count": 56,
   "metadata": {},
   "outputs": [
    {
     "data": {
      "text/plain": [
       "array([[102.32229334,  95.58190763, 102.76048588, 102.74756026],\n",
       "       [ 93.73324988, 103.61989649, 103.1152896 , 101.71293148],\n",
       "       [100.43548796, 100.11313454,  97.6846967 ,  95.2021952 ]])"
      ]
     },
     "execution_count": 56,
     "metadata": {},
     "output_type": "execute_result"
    }
   ],
   "source": [
    "np.random.normal(100,4 , size=(3,4))"
   ]
  }
 ],
 "metadata": {
  "kernelspec": {
   "display_name": "Python 3",
   "language": "python",
   "name": "python3"
  },
  "language_info": {
   "codemirror_mode": {
    "name": "ipython",
    "version": 3
   },
   "file_extension": ".py",
   "mimetype": "text/x-python",
   "name": "python",
   "nbconvert_exporter": "python",
   "pygments_lexer": "ipython3",
   "version": "3.7.1"
  }
 },
 "nbformat": 4,
 "nbformat_minor": 2
}
